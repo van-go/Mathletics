{
 "cells": [
  {
   "cell_type": "code",
   "execution_count": 3,
   "metadata": {
    "vscode": {
     "languageId": "r"
    }
   },
   "outputs": [
    {
     "data": {
      "text/html": [
       "<table class=\"dataframe\">\n",
       "<caption>A data.frame: 3 x 4</caption>\n",
       "<thead>\n",
       "\t<tr><th scope=col>Year</th><th scope=col>Team</th><th scope=col>W</th><th scope=col>L</th></tr>\n",
       "\t<tr><th scope=col>&lt;int&gt;</th><th scope=col>&lt;chr&gt;</th><th scope=col>&lt;dbl&gt;</th><th scope=col>&lt;dbl&gt;</th></tr>\n",
       "</thead>\n",
       "<tbody>\n",
       "\t<tr><td>2014</td><td>New York Mets</td><td>79</td><td>83</td></tr>\n",
       "\t<tr><td>2015</td><td>New York Mets</td><td>90</td><td>72</td></tr>\n",
       "\t<tr><td>2016</td><td>New York Mets</td><td>87</td><td>75</td></tr>\n",
       "</tbody>\n",
       "</table>\n"
      ],
      "text/latex": [
       "A data.frame: 3 x 4\n",
       "\\begin{tabular}{llll}\n",
       " Year & Team & W & L\\\\\n",
       " <int> & <chr> & <dbl> & <dbl>\\\\\n",
       "\\hline\n",
       "\t 2014 & New York Mets & 79 & 83\\\\\n",
       "\t 2015 & New York Mets & 90 & 72\\\\\n",
       "\t 2016 & New York Mets & 87 & 75\\\\\n",
       "\\end{tabular}\n"
      ],
      "text/markdown": [
       "\n",
       "A data.frame: 3 x 4\n",
       "\n",
       "| Year &lt;int&gt; | Team &lt;chr&gt; | W &lt;dbl&gt; | L &lt;dbl&gt; |\n",
       "|---|---|---|---|\n",
       "| 2014 | New York Mets | 79 | 83 |\n",
       "| 2015 | New York Mets | 90 | 72 |\n",
       "| 2016 | New York Mets | 87 | 75 |\n",
       "\n"
      ],
      "text/plain": [
       "  Year Team          W  L \n",
       "1 2014 New York Mets 79 83\n",
       "2 2015 New York Mets 90 72\n",
       "3 2016 New York Mets 87 75"
      ]
     },
     "metadata": {},
     "output_type": "display_data"
    }
   ],
   "source": [
    "# http://statisland.com/mathletics/Introduction.html\n",
    "\n",
    "Year = seq(2014,2016)             # array of 2014-2016\n",
    "Team = rep(\"New York Mets\", 3)    # repeats MYM 3 times\n",
    "W = c(79, 90, 87)                 \n",
    "L = c(83, 72, 75)\n",
    "mets = data.frame(Year, Team, W, L) # df with 4 columns\n",
    "\n",
    "mets                              # view of mets df"
   ]
  },
  {
   "cell_type": "code",
   "execution_count": 5,
   "metadata": {
    "vscode": {
     "languageId": "r"
    }
   },
   "outputs": [
    {
     "data": {
      "text/html": [
       "<style>\n",
       ".list-inline {list-style: none; margin:0; padding: 0}\n",
       ".list-inline>li {display: inline-block}\n",
       ".list-inline>li:not(:last-child)::after {content: \"\\00b7\"; padding: 0 .5ex}\n",
       "</style>\n",
       "<ol class=list-inline><li>2014</li><li>2015</li><li>2016</li></ol>\n"
      ],
      "text/latex": [
       "\\begin{enumerate*}\n",
       "\\item 2014\n",
       "\\item 2015\n",
       "\\item 2016\n",
       "\\end{enumerate*}\n"
      ],
      "text/markdown": [
       "1. 2014\n",
       "2. 2015\n",
       "3. 2016\n",
       "\n",
       "\n"
      ],
      "text/plain": [
       "[1] 2014 2015 2016"
      ]
     },
     "metadata": {},
     "output_type": "display_data"
    }
   ],
   "source": [
    "mets$Year\n"
   ]
  },
  {
   "cell_type": "code",
   "execution_count": 6,
   "metadata": {
    "vscode": {
     "languageId": "r"
    }
   },
   "outputs": [
    {
     "data": {
      "text/html": [
       "<style>\n",
       ".list-inline {list-style: none; margin:0; padding: 0}\n",
       ".list-inline>li {display: inline-block}\n",
       ".list-inline>li:not(:last-child)::after {content: \"\\00b7\"; padding: 0 .5ex}\n",
       "</style>\n",
       "<ol class=list-inline><li>90</li><li>87</li></ol>\n"
      ],
      "text/latex": [
       "\\begin{enumerate*}\n",
       "\\item 90\n",
       "\\item 87\n",
       "\\end{enumerate*}\n"
      ],
      "text/markdown": [
       "1. 90\n",
       "2. 87\n",
       "\n",
       "\n"
      ],
      "text/plain": [
       "[1] 90 87"
      ]
     },
     "metadata": {},
     "output_type": "display_data"
    }
   ],
   "source": [
    "mets$W[mets$W >= 81]"
   ]
  },
  {
   "cell_type": "code",
   "execution_count": 7,
   "metadata": {
    "vscode": {
     "languageId": "r"
    }
   },
   "outputs": [
    {
     "data": {
      "text/html": [
       "90"
      ],
      "text/latex": [
       "90"
      ],
      "text/markdown": [
       "90"
      ],
      "text/plain": [
       "[1] 90"
      ]
     },
     "metadata": {},
     "output_type": "display_data"
    }
   ],
   "source": [
    "mets[2,3]                         # value in column 2, row 3\n"
   ]
  },
  {
   "cell_type": "code",
   "execution_count": 8,
   "metadata": {
    "vscode": {
     "languageId": "r"
    }
   },
   "outputs": [
    {
     "data": {
      "text/html": [
       "<table class=\"dataframe\">\n",
       "<caption>A data.frame: 3 x 2</caption>\n",
       "<thead>\n",
       "\t<tr><th scope=col>W</th><th scope=col>L</th></tr>\n",
       "\t<tr><th scope=col>&lt;dbl&gt;</th><th scope=col>&lt;dbl&gt;</th></tr>\n",
       "</thead>\n",
       "<tbody>\n",
       "\t<tr><td>79</td><td>83</td></tr>\n",
       "\t<tr><td>90</td><td>72</td></tr>\n",
       "\t<tr><td>87</td><td>75</td></tr>\n",
       "</tbody>\n",
       "</table>\n"
      ],
      "text/latex": [
       "A data.frame: 3 x 2\n",
       "\\begin{tabular}{ll}\n",
       " W & L\\\\\n",
       " <dbl> & <dbl>\\\\\n",
       "\\hline\n",
       "\t 79 & 83\\\\\n",
       "\t 90 & 72\\\\\n",
       "\t 87 & 75\\\\\n",
       "\\end{tabular}\n"
      ],
      "text/markdown": [
       "\n",
       "A data.frame: 3 x 2\n",
       "\n",
       "| W &lt;dbl&gt; | L &lt;dbl&gt; |\n",
       "|---|---|\n",
       "| 79 | 83 |\n",
       "| 90 | 72 |\n",
       "| 87 | 75 |\n",
       "\n"
      ],
      "text/plain": [
       "  W  L \n",
       "1 79 83\n",
       "2 90 72\n",
       "3 87 75"
      ]
     },
     "metadata": {},
     "output_type": "display_data"
    }
   ],
   "source": [
    "mets[ , c(\"W\", \"L\")]             # columns W and L\n"
   ]
  },
  {
   "cell_type": "code",
   "execution_count": 9,
   "metadata": {
    "vscode": {
     "languageId": "r"
    }
   },
   "outputs": [
    {
     "data": {
      "text/html": [
       "<table class=\"dataframe\">\n",
       "<caption>A data.frame: 1 x 2</caption>\n",
       "<thead>\n",
       "\t<tr><th></th><th scope=col>W</th><th scope=col>L</th></tr>\n",
       "\t<tr><th></th><th scope=col>&lt;dbl&gt;</th><th scope=col>&lt;dbl&gt;</th></tr>\n",
       "</thead>\n",
       "<tbody>\n",
       "\t<tr><th scope=row>3</th><td>87</td><td>75</td></tr>\n",
       "</tbody>\n",
       "</table>\n"
      ],
      "text/latex": [
       "A data.frame: 1 x 2\n",
       "\\begin{tabular}{r|ll}\n",
       "  & W & L\\\\\n",
       "  & <dbl> & <dbl>\\\\\n",
       "\\hline\n",
       "\t3 & 87 & 75\\\\\n",
       "\\end{tabular}\n"
      ],
      "text/markdown": [
       "\n",
       "A data.frame: 1 x 2\n",
       "\n",
       "| <!--/--> | W &lt;dbl&gt; | L &lt;dbl&gt; |\n",
       "|---|---|---|\n",
       "| 3 | 87 | 75 |\n",
       "\n"
      ],
      "text/plain": [
       "  W  L \n",
       "3 87 75"
      ]
     },
     "metadata": {},
     "output_type": "display_data"
    }
   ],
   "source": [
    "mets[mets$Year==2016, c(3, 4)]            # 2016 W and L\n"
   ]
  },
  {
   "cell_type": "code",
   "execution_count": 13,
   "metadata": {
    "vscode": {
     "languageId": "r"
    }
   },
   "outputs": [
    {
     "data": {
      "text/html": [
       "<style>\n",
       ".list-inline {list-style: none; margin:0; padding: 0}\n",
       ".list-inline>li {display: inline-block}\n",
       ".list-inline>li:not(:last-child)::after {content: \"\\00b7\"; padding: 0 .5ex}\n",
       "</style>\n",
       "<ol class=list-inline><li>2015</li><li>2016</li></ol>\n"
      ],
      "text/latex": [
       "\\begin{enumerate*}\n",
       "\\item 2015\n",
       "\\item 2016\n",
       "\\end{enumerate*}\n"
      ],
      "text/markdown": [
       "1. 2015\n",
       "2. 2016\n",
       "\n",
       "\n"
      ],
      "text/plain": [
       "[1] 2015 2016"
      ]
     },
     "metadata": {},
     "output_type": "display_data"
    },
    {
     "data": {
      "text/html": [
       "2016"
      ],
      "text/latex": [
       "2016"
      ],
      "text/markdown": [
       "2016"
      ],
      "text/plain": [
       "[1] 2016"
      ]
     },
     "metadata": {},
     "output_type": "display_data"
    },
    {
     "data": {
      "text/html": [
       "256"
      ],
      "text/latex": [
       "256"
      ],
      "text/markdown": [
       "256"
      ],
      "text/plain": [
       "[1] 256"
      ]
     },
     "metadata": {},
     "output_type": "display_data"
    },
    {
     "data": {
      "text/html": [
       "85.3333333333333"
      ],
      "text/latex": [
       "85.3333333333333"
      ],
      "text/markdown": [
       "85.3333333333333"
      ],
      "text/plain": [
       "[1] 85.33333"
      ]
     },
     "metadata": {},
     "output_type": "display_data"
    }
   ],
   "source": [
    "mets[mets$W > mets$L, \"Year\"]            # years with more wins than losses\n",
    "max(mets$Year)                           # max year\n",
    "sum(mets$W)                              # sum of wins\n",
    "mean(mets$W)                             # mean of wins"
   ]
  },
  {
   "cell_type": "code",
   "execution_count": 22,
   "metadata": {
    "vscode": {
     "languageId": "r"
    }
   },
   "outputs": [
    {
     "data": {
      "text/html": [
       "<style>\n",
       ".list-inline {list-style: none; margin:0; padding: 0}\n",
       ".list-inline>li {display: inline-block}\n",
       ".list-inline>li:not(:last-child)::after {content: \"\\00b7\"; padding: 0 .5ex}\n",
       "</style>\n",
       "<ol class=list-inline><li>'2014---New York Mets'</li><li>'2015---New York Mets'</li><li>'2016---New York Mets'</li></ol>\n"
      ],
      "text/latex": [
       "\\begin{enumerate*}\n",
       "\\item '2014---New York Mets'\n",
       "\\item '2015---New York Mets'\n",
       "\\item '2016---New York Mets'\n",
       "\\end{enumerate*}\n"
      ],
      "text/markdown": [
       "1. '2014---New York Mets'\n",
       "2. '2015---New York Mets'\n",
       "3. '2016---New York Mets'\n",
       "\n",
       "\n"
      ],
      "text/plain": [
       "[1] \"2014---New York Mets\" \"2015---New York Mets\" \"2016---New York Mets\""
      ]
     },
     "metadata": {},
     "output_type": "display_data"
    },
    {
     "data": {
      "text/html": [
       "<style>\n",
       ".list-inline {list-style: none; margin:0; padding: 0}\n",
       ".list-inline>li {display: inline-block}\n",
       ".list-inline>li:not(:last-child)::after {content: \"\\00b7\"; padding: 0 .5ex}\n",
       "</style>\n",
       "<ol class=list-inline><li>14</li><li>15</li><li>16</li></ol>\n"
      ],
      "text/latex": [
       "\\begin{enumerate*}\n",
       "\\item 14\n",
       "\\item 15\n",
       "\\item 16\n",
       "\\end{enumerate*}\n"
      ],
      "text/markdown": [
       "1. 14\n",
       "2. 15\n",
       "3. 16\n",
       "\n",
       "\n"
      ],
      "text/plain": [
       "[1] 14 15 16"
      ]
     },
     "metadata": {},
     "output_type": "display_data"
    }
   ],
   "source": [
    "paste(mets$Year, mets$Team, sep=\"---\")    # paste year and team with ---\n",
    "sapply(mets$Year, function(x){ x-2000 })  # apply a fuction that subtracts 2000 from each year "
   ]
  },
  {
   "cell_type": "code",
   "execution_count": 26,
   "metadata": {
    "vscode": {
     "languageId": "r"
    }
   },
   "outputs": [
    {
     "data": {
      "text/html": [
       "<style>\n",
       ".list-inline {list-style: none; margin:0; padding: 0}\n",
       ".list-inline>li {display: inline-block}\n",
       ".list-inline>li:not(:last-child)::after {content: \"\\00b7\"; padding: 0 .5ex}\n",
       "</style>\n",
       "<ol class=list-inline><li>162</li><li>162</li><li>162</li></ol>\n"
      ],
      "text/latex": [
       "\\begin{enumerate*}\n",
       "\\item 162\n",
       "\\item 162\n",
       "\\item 162\n",
       "\\end{enumerate*}\n"
      ],
      "text/markdown": [
       "1. 162\n",
       "2. 162\n",
       "3. 162\n",
       "\n",
       "\n"
      ],
      "text/plain": [
       "[1] 162 162 162"
      ]
     },
     "metadata": {},
     "output_type": "display_data"
    }
   ],
   "source": [
    "mets$Games = mets$W + mets$L      # create a new column with the sum of W and L \n",
    "mets$Games"
   ]
  },
  {
   "cell_type": "code",
   "execution_count": 28,
   "metadata": {
    "vscode": {
     "languageId": "r"
    }
   },
   "outputs": [
    {
     "data": {
      "text/html": [
       "<style>\n",
       ".list-inline {list-style: none; margin:0; padding: 0}\n",
       ".list-inline>li {display: inline-block}\n",
       ".list-inline>li:not(:last-child)::after {content: \"\\00b7\"; padding: 0 .5ex}\n",
       "</style>\n",
       "<ol class=list-inline><li>0.488</li><li>0.556</li><li>0.537</li></ol>\n"
      ],
      "text/latex": [
       "\\begin{enumerate*}\n",
       "\\item 0.488\n",
       "\\item 0.556\n",
       "\\item 0.537\n",
       "\\end{enumerate*}\n"
      ],
      "text/markdown": [
       "1. 0.488\n",
       "2. 0.556\n",
       "3. 0.537\n",
       "\n",
       "\n"
      ],
      "text/plain": [
       "[1] 0.488 0.556 0.537"
      ]
     },
     "metadata": {},
     "output_type": "display_data"
    }
   ],
   "source": [
    "mets$W.pct = round(mets$W/mets$Games, 3)  # Mets win percentage, rounded to 3 places\n",
    "mets$W.pct\n"
   ]
  },
  {
   "cell_type": "code",
   "execution_count": 29,
   "metadata": {
    "vscode": {
     "languageId": "r"
    }
   },
   "outputs": [
    {
     "data": {
      "text/html": [
       "<style>\n",
       ".list-inline {list-style: none; margin:0; padding: 0}\n",
       ".list-inline>li {display: inline-block}\n",
       ".list-inline>li:not(:last-child)::after {content: \"\\00b7\"; padding: 0 .5ex}\n",
       "</style>\n",
       "<ol class=list-inline><li>FALSE</li><li>TRUE</li><li>TRUE</li></ol>\n"
      ],
      "text/latex": [
       "\\begin{enumerate*}\n",
       "\\item FALSE\n",
       "\\item TRUE\n",
       "\\item TRUE\n",
       "\\end{enumerate*}\n"
      ],
      "text/markdown": [
       "1. FALSE\n",
       "2. TRUE\n",
       "3. TRUE\n",
       "\n",
       "\n"
      ],
      "text/plain": [
       "[1] FALSE  TRUE  TRUE"
      ]
     },
     "metadata": {},
     "output_type": "display_data"
    }
   ],
   "source": [
    "mets$`Over500` = ifelse(mets$W > mets$L, TRUE, FALSE)  # create a new column with a boolean value\n",
    "mets$`Over500`"
   ]
  },
  {
   "cell_type": "code",
   "execution_count": 30,
   "metadata": {
    "vscode": {
     "languageId": "r"
    }
   },
   "outputs": [
    {
     "data": {
      "text/html": [
       "<table class=\"dataframe\">\n",
       "<caption>A data.frame: 4 x 8</caption>\n",
       "<thead>\n",
       "\t<tr><th scope=col>Year</th><th scope=col>Team</th><th scope=col>W</th><th scope=col>L</th><th scope=col>Games</th><th scope=col>W.pct</th><th scope=col>Over500</th><th scope=col>League</th></tr>\n",
       "\t<tr><th scope=col>&lt;chr&gt;</th><th scope=col>&lt;chr&gt;</th><th scope=col>&lt;chr&gt;</th><th scope=col>&lt;chr&gt;</th><th scope=col>&lt;chr&gt;</th><th scope=col>&lt;chr&gt;</th><th scope=col>&lt;chr&gt;</th><th scope=col>&lt;chr&gt;</th></tr>\n",
       "</thead>\n",
       "<tbody>\n",
       "\t<tr><td>2014</td><td>New York Mets</td><td>79 </td><td>83</td><td>162</td><td>0.488</td><td>FALSE</td><td>NL</td></tr>\n",
       "\t<tr><td>2015</td><td>New York Mets</td><td>90 </td><td>72</td><td>162</td><td>0.556</td><td>TRUE </td><td>NL</td></tr>\n",
       "\t<tr><td>2016</td><td>New York Mets</td><td>87 </td><td>75</td><td>162</td><td>0.537</td><td>TRUE </td><td>NL</td></tr>\n",
       "\t<tr><td>2017</td><td>New York Mets</td><td>162</td><td>0 </td><td>162</td><td>1    </td><td>TRUE </td><td>NL</td></tr>\n",
       "</tbody>\n",
       "</table>\n"
      ],
      "text/latex": [
       "A data.frame: 4 x 8\n",
       "\\begin{tabular}{llllllll}\n",
       " Year & Team & W & L & Games & W.pct & Over500 & League\\\\\n",
       " <chr> & <chr> & <chr> & <chr> & <chr> & <chr> & <chr> & <chr>\\\\\n",
       "\\hline\n",
       "\t 2014 & New York Mets & 79  & 83 & 162 & 0.488 & FALSE & NL\\\\\n",
       "\t 2015 & New York Mets & 90  & 72 & 162 & 0.556 & TRUE  & NL\\\\\n",
       "\t 2016 & New York Mets & 87  & 75 & 162 & 0.537 & TRUE  & NL\\\\\n",
       "\t 2017 & New York Mets & 162 & 0  & 162 & 1     & TRUE  & NL\\\\\n",
       "\\end{tabular}\n"
      ],
      "text/markdown": [
       "\n",
       "A data.frame: 4 x 8\n",
       "\n",
       "| Year &lt;chr&gt; | Team &lt;chr&gt; | W &lt;chr&gt; | L &lt;chr&gt; | Games &lt;chr&gt; | W.pct &lt;chr&gt; | Over500 &lt;chr&gt; | League &lt;chr&gt; |\n",
       "|---|---|---|---|---|---|---|---|\n",
       "| 2014 | New York Mets | 79  | 83 | 162 | 0.488 | FALSE | NL |\n",
       "| 2015 | New York Mets | 90  | 72 | 162 | 0.556 | TRUE  | NL |\n",
       "| 2016 | New York Mets | 87  | 75 | 162 | 0.537 | TRUE  | NL |\n",
       "| 2017 | New York Mets | 162 | 0  | 162 | 1     | TRUE  | NL |\n",
       "\n"
      ],
      "text/plain": [
       "  Year Team          W   L  Games W.pct Over500 League\n",
       "1 2014 New York Mets 79  83 162   0.488 FALSE   NL    \n",
       "2 2015 New York Mets 90  72 162   0.556 TRUE    NL    \n",
       "3 2016 New York Mets 87  75 162   0.537 TRUE    NL    \n",
       "4 2017 New York Mets 162 0  162   1     TRUE    NL    "
      ]
     },
     "metadata": {},
     "output_type": "display_data"
    }
   ],
   "source": [
    "next_year = c(2017, \"New York Mets\", 162, 0, 162, 1.000, TRUE)  #adding new row with rbind\n",
    "mets2=rbind(mets, next_year)                                          \n",
    "mets3=cbind(mets2, League=rep(\"NL\", 4))                          #cbind adds columns\n",
    "mets3"
   ]
  }
 ],
 "metadata": {
  "kernelspec": {
   "display_name": "R",
   "language": "R",
   "name": "ir"
  },
  "language_info": {
   "codemirror_mode": "r",
   "file_extension": ".r",
   "mimetype": "text/x-r-source",
   "name": "R",
   "pygments_lexer": "r",
   "version": "4.4.0"
  }
 },
 "nbformat": 4,
 "nbformat_minor": 2
}
